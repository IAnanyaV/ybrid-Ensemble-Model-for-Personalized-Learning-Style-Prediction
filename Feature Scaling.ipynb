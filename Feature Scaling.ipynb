{
  "cells": [
    {
      "cell_type": "code",
      "execution_count": null,
      "metadata": {
        "id": "AUEus6CTeygE"
      },
      "outputs": [],
      "source": [
        "import numpy as np\n",
        "import matplotlib.pyplot as plt\n",
        "import pandas as pd"
      ]
    },
    {
      "cell_type": "code",
      "execution_count": null,
      "metadata": {
        "id": "vfJnR8SEt2s9"
      },
      "outputs": [],
      "source": [
        "import pandas as pd\n",
        "from sklearn.preprocessing import StandardScaler\n",
        "\n",
        "# Read the dataset\n",
        "df = pd.read_csv('data_fs1.csv')\n",
        "\n",
        "# Separate the independent variables (X) and dependent variable (y)\n",
        "X = df.iloc[:, :-1]\n",
        "y = df.iloc[:, -1]\n",
        "\n",
        "# Apply StandardScaler to the independent variables\n",
        "scaler = StandardScaler()\n",
        "X_scaled = scaler.fit_transform(X)\n",
        "\n",
        "# Create a new DataFrame with the scaled features\n",
        "df_scaled = pd.DataFrame(X_scaled, columns=X.columns)\n",
        "\n",
        "# Add the dependent variable back to the scaled DataFrame\n",
        "df_scaled['learning_style'] = y\n",
        "\n",
        "# Save the scaled dataset as a new CSV file\n",
        "df_scaled.to_csv('scaled_X_features.csv', index=False)\n"
      ]
    }
  ],
  "metadata": {
    "colab": {
      "provenance": []
    },
    "kernelspec": {
      "display_name": "Python 3",
      "name": "python3"
    },
    "language_info": {
      "name": "python"
    }
  },
  "nbformat": 4,
  "nbformat_minor": 0
}
